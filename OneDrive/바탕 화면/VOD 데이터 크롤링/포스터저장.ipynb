{
 "cells": [
  {
   "cell_type": "code",
   "execution_count": null,
   "id": "973441f9",
   "metadata": {},
   "outputs": [],
   "source": [
    "import os\n",
    "import requests\n",
    "from PIL import Image\n",
    "from io import BytesIO\n",
    "# 이미지를 저장할 폴더 생성\n",
    "output_folder = '/content/drive/MyDrive/프로젝트 크롤링/11_13영화'\n",
    "no_poster = []\n",
    "# DataFrame을 순회하면서 이미지 다운로드 및 저장\n",
    "\n",
    "\n",
    "for index, row in movie_df.iterrows():\n",
    "    title = row['title']\n",
    "    poster_path = row['url']\n",
    "    try :\n",
    "        # 이미지 다운로드\n",
    "        response = requests.get(poster_path)\n",
    "        img = Image.open(BytesIO(response.content))\n",
    "\n",
    "      # 이미지 저장\n",
    "      # img.save(os.path.join(output_folder, f'{title}.jpg'))\n",
    "    except :\n",
    "        print(f'{title} 포스터 없음')\n",
    "        no_poster.append(title)\n",
    "        pass\n",
    "print(\"이미지 저장이 완료되었습니다.\")"
   ]
  }
 ],
 "metadata": {
  "kernelspec": {
   "display_name": "Python 3 (ipykernel)",
   "language": "python",
   "name": "python3"
  },
  "language_info": {
   "codemirror_mode": {
    "name": "ipython",
    "version": 3
   },
   "file_extension": ".py",
   "mimetype": "text/x-python",
   "name": "python",
   "nbconvert_exporter": "python",
   "pygments_lexer": "ipython3",
   "version": "3.11.5"
  }
 },
 "nbformat": 4,
 "nbformat_minor": 5
}
